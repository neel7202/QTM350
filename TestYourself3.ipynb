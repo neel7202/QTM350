{
  "nbformat": 4,
  "nbformat_minor": 0,
  "metadata": {
    "colab": {
      "provenance": [],
      "collapsed_sections": [],
      "authorship_tag": "ABX9TyNYaoZqu2thH8ZlCR8+l6DW",
      "include_colab_link": true
    },
    "kernelspec": {
      "name": "python3",
      "display_name": "Python 3"
    },
    "language_info": {
      "name": "python"
    }
  },
  "cells": [
    {
      "cell_type": "markdown",
      "metadata": {
        "id": "view-in-github",
        "colab_type": "text"
      },
      "source": [
        "<a href=\"https://colab.research.google.com/github/neel7202/QTM350/blob/main/TestYourself3.ipynb\" target=\"_parent\"><img src=\"https://colab.research.google.com/assets/colab-badge.svg\" alt=\"Open In Colab\"/></a>"
      ]
    },
    {
      "cell_type": "code",
      "execution_count": 52,
      "metadata": {
        "colab": {
          "base_uri": "https://localhost:8080/"
        },
        "id": "6eL34EJDS945",
        "outputId": "af5faded-409a-4dbe-cb93-40997435fbb2"
      },
      "outputs": [
        {
          "output_type": "stream",
          "name": "stderr",
          "text": [
            "--2022-09-27 00:49:38--  http://archive.ics.uci.edu/ml/machine-learning-databases/adult/adult.data\n",
            "Resolving archive.ics.uci.edu (archive.ics.uci.edu)... 128.195.10.252\n",
            "Connecting to archive.ics.uci.edu (archive.ics.uci.edu)|128.195.10.252|:80... connected.\n",
            "HTTP request sent, awaiting response... 200 OK\n",
            "Length: 3974305 (3.8M) [application/x-httpd-php]\n",
            "Saving to: ‘adult.data.3’\n",
            "\n",
            "     0K .......... .......... .......... .......... ..........  1% 2.49M 2s\n",
            "    50K .......... .......... .......... .......... ..........  2% 4.43M 1s\n",
            "   100K .......... .......... .......... .......... ..........  3% 48.7M 1s\n",
            "   150K .......... .......... .......... .......... ..........  5% 3.65M 1s\n",
            "   200K .......... .......... .......... .......... ..........  6% 48.9M 1s\n",
            "   250K .......... .......... .......... .......... ..........  7% 51.7M 1s\n",
            "   300K .......... .......... .......... .......... ..........  9% 50.2M 0s\n",
            "   350K .......... .......... .......... .......... .......... 10% 5.54M 0s\n",
            "   400K .......... .......... .......... .......... .......... 11% 41.9M 0s\n",
            "   450K .......... .......... .......... .......... .......... 12% 52.1M 0s\n",
            "   500K .......... .......... .......... .......... .......... 14% 51.4M 0s\n",
            "   550K .......... .......... .......... .......... .......... 15% 52.1M 0s\n",
            "   600K .......... .......... .......... .......... .......... 16% 59.1M 0s\n",
            "   650K .......... .......... .......... .......... .......... 18%  300M 0s\n",
            "   700K .......... .......... .......... .......... .......... 19% 17.1M 0s\n",
            "   750K .......... .......... .......... .......... .......... 20% 80.7M 0s\n",
            "   800K .......... .......... .......... .......... .......... 21%  242M 0s\n",
            "   850K .......... .......... .......... .......... .......... 23% 60.4M 0s\n",
            "   900K .......... .......... .......... .......... .......... 24% 61.9M 0s\n",
            "   950K .......... .......... .......... .......... .......... 25%  253M 0s\n",
            "  1000K .......... .......... .......... .......... .......... 27%  291M 0s\n",
            "  1050K .......... .......... .......... .......... .......... 28%  305M 0s\n",
            "  1100K .......... .......... .......... .......... .......... 29% 67.3M 0s\n",
            "  1150K .......... .......... .......... .......... .......... 30% 83.5M 0s\n",
            "  1200K .......... .......... .......... .......... .......... 32% 50.6M 0s\n",
            "  1250K .......... .......... .......... .......... .......... 33%  119M 0s\n",
            "  1300K .......... .......... .......... .......... .......... 34%  256M 0s\n",
            "  1350K .......... .......... .......... .......... .......... 36%  288M 0s\n",
            "  1400K .......... .......... .......... .......... .......... 37% 20.5M 0s\n",
            "  1450K .......... .......... .......... .......... .......... 38% 48.5M 0s\n",
            "  1500K .......... .......... .......... .......... .......... 39% 48.3M 0s\n",
            "  1550K .......... .......... .......... .......... .......... 41%  283M 0s\n",
            "  1600K .......... .......... .......... .......... .......... 42%  292M 0s\n",
            "  1650K .......... .......... .......... .......... .......... 43%  284M 0s\n",
            "  1700K .......... .......... .......... .......... .......... 45% 73.7M 0s\n",
            "  1750K .......... .......... .......... .......... .......... 46% 49.8M 0s\n",
            "  1800K .......... .......... .......... .......... .......... 47%  104M 0s\n",
            "  1850K .......... .......... .......... .......... .......... 48%  295M 0s\n",
            "  1900K .......... .......... .......... .......... .......... 50%  257M 0s\n",
            "  1950K .......... .......... .......... .......... .......... 51%  283M 0s\n",
            "  2000K .......... .......... .......... .......... .......... 52%  305M 0s\n",
            "  2050K .......... .......... .......... .......... .......... 54% 64.3M 0s\n",
            "  2100K .......... .......... .......... .......... .......... 55% 50.8M 0s\n",
            "  2150K .......... .......... .......... .......... .......... 56% 48.9M 0s\n",
            "  2200K .......... .......... .......... .......... .......... 57% 80.3M 0s\n",
            "  2250K .......... .......... .......... .......... .......... 59%  254M 0s\n",
            "  2300K .......... .......... .......... .......... .......... 60%  291M 0s\n",
            "  2350K .......... .......... .......... .......... .......... 61%  283M 0s\n",
            "  2400K .......... .......... .......... .......... .......... 63%  252M 0s\n",
            "  2450K .......... .......... .......... .......... .......... 64%  269M 0s\n",
            "  2500K .......... .......... .......... .......... .......... 65%  115M 0s\n",
            "  2550K .......... .......... .......... .......... .......... 66% 47.7M 0s\n",
            "  2600K .......... .......... .......... .......... .......... 68% 47.4M 0s\n",
            "  2650K .......... .......... .......... .......... .......... 69% 42.1M 0s\n",
            "  2700K .......... .......... .......... .......... .......... 70% 69.9M 0s\n",
            "  2750K .......... .......... .......... .......... .......... 72%  289M 0s\n",
            "  2800K .......... .......... .......... .......... .......... 73%  289M 0s\n",
            "  2850K .......... .......... .......... .......... .......... 74%  220M 0s\n",
            "  2900K .......... .......... .......... .......... .......... 76%  305M 0s\n",
            "  2950K .......... .......... .......... .......... .......... 77%  274M 0s\n",
            "  3000K .......... .......... .......... .......... .......... 78%  294M 0s\n",
            "  3050K .......... .......... .......... .......... .......... 79%  258M 0s\n",
            "  3100K .......... .......... .......... .......... .......... 81%  283M 0s\n",
            "  3150K .......... .......... .......... .......... .......... 82%  281M 0s\n",
            "  3200K .......... .......... .......... .......... .......... 83% 70.4M 0s\n",
            "  3250K .......... .......... .......... .......... .......... 85% 31.6M 0s\n",
            "  3300K .......... .......... .......... .......... .......... 86% 31.3M 0s\n",
            "  3350K .......... .......... .......... .......... .......... 87% 28.3M 0s\n",
            "  3400K .......... .......... .......... .......... .......... 88% 48.3M 0s\n",
            "  3450K .......... .......... .......... .......... .......... 90%  215M 0s\n",
            "  3500K .......... .......... .......... .......... .......... 91%  217M 0s\n",
            "  3550K .......... .......... .......... .......... .......... 92%  193M 0s\n",
            "  3600K .......... .......... .......... .......... .......... 94%  228M 0s\n",
            "  3650K .......... .......... .......... .......... .......... 95%  233M 0s\n",
            "  3700K .......... .......... .......... .......... .......... 96%  230M 0s\n",
            "  3750K .......... .......... .......... .......... .......... 97%  180M 0s\n",
            "  3800K .......... .......... .......... .......... .......... 99%  225M 0s\n",
            "  3850K .......... .......... .......... .                    100%  200M=0.1s\n",
            "\n",
            "2022-09-27 00:49:38 (39.1 MB/s) - ‘adult.data.3’ saved [3974305/3974305]\n",
            "\n"
          ]
        }
      ],
      "source": [
        "%%bash\n",
        "wget http://archive.ics.uci.edu/ml/machine-learning-databases/adult/adult.data"
      ]
    },
    {
      "cell_type": "code",
      "source": [
        "%%bash \n",
        "wc -l adult.data"
      ],
      "metadata": {
        "colab": {
          "base_uri": "https://localhost:8080/"
        },
        "id": "q-bBjHEVT2R1",
        "outputId": "44080447-fb9a-4192-f9f0-e8b6fa067ea3"
      },
      "execution_count": 53,
      "outputs": [
        {
          "output_type": "stream",
          "name": "stdout",
          "text": [
            "32562 adult.data\n"
          ]
        }
      ]
    },
    {
      "cell_type": "code",
      "source": [
        "%%bash\n",
        "ls -l /content | wc -l"
      ],
      "metadata": {
        "colab": {
          "base_uri": "https://localhost:8080/"
        },
        "id": "Xs1RGfUmU58x",
        "outputId": "5dbd6a67-1ec3-4a0b-a462-f0c7f1cb3d95"
      },
      "execution_count": 54,
      "outputs": [
        {
          "output_type": "stream",
          "name": "stdout",
          "text": [
            "11\n"
          ]
        }
      ]
    },
    {
      "cell_type": "code",
      "source": [
        "%%bash\n",
        "head -n 2 adult.data"
      ],
      "metadata": {
        "colab": {
          "base_uri": "https://localhost:8080/"
        },
        "id": "SpZcIZT_Vl0y",
        "outputId": "c1f6c8b9-b689-4516-9bb1-1b98bc603e76"
      },
      "execution_count": 55,
      "outputs": [
        {
          "output_type": "stream",
          "name": "stdout",
          "text": [
            "39, State-gov, 77516, Bachelors, 13, Never-married, Adm-clerical, Not-in-family, White, Male, 2174, 0, 40, United-States, <=50K\n",
            "50, Self-emp-not-inc, 83311, Bachelors, 13, Married-civ-spouse, Exec-managerial, Husband, White, Male, 0, 0, 13, United-States, <=50K\n"
          ]
        }
      ]
    },
    {
      "cell_type": "code",
      "source": [
        "%%bash\n",
        "echo \"age,workclass,fnlwgt,education,education-num,marital-status,occupation,relationship,race,sex,capital-gain,capital-loss,native-country,class\" > header.csv"
      ],
      "metadata": {
        "id": "su7OZVZQWc7D"
      },
      "execution_count": 56,
      "outputs": []
    },
    {
      "cell_type": "code",
      "source": [
        "%%bash\n",
        "cat header.csv adult.data > adult.csv"
      ],
      "metadata": {
        "id": "5V2ifSezWijM"
      },
      "execution_count": 57,
      "outputs": []
    },
    {
      "cell_type": "code",
      "source": [
        "%%bash\n",
        "head -n 2 adult.csv"
      ],
      "metadata": {
        "colab": {
          "base_uri": "https://localhost:8080/"
        },
        "id": "whuhjGqxW3OG",
        "outputId": "e8512e10-0786-4d93-f80b-100d377ec3bd"
      },
      "execution_count": 58,
      "outputs": [
        {
          "output_type": "stream",
          "name": "stdout",
          "text": [
            "age,workclass,fnlwgt,education,education-num,marital-status,occupation,relationship,race,sex,capital-gain,capital-loss,native-country,class\n",
            "39, State-gov, 77516, Bachelors, 13, Never-married, Adm-clerical, Not-in-family, White, Male, 2174, 0, 40, United-States, <=50K\n"
          ]
        }
      ]
    },
    {
      "cell_type": "code",
      "source": [
        "%%bash\n",
        "grep \", ?,\" adult.csv | wc -l"
      ],
      "metadata": {
        "colab": {
          "base_uri": "https://localhost:8080/"
        },
        "id": "1cWNMtXoXibv",
        "outputId": "5200d3d0-3d71-4c7c-e080-d5d70b149d71"
      },
      "execution_count": 59,
      "outputs": [
        {
          "output_type": "stream",
          "name": "stdout",
          "text": [
            "2399\n"
          ]
        }
      ]
    },
    {
      "cell_type": "code",
      "source": [
        "%%bash\n",
        "sed \"s/, ?,/,,/g\" adult.csv >  new-adult.csv"
      ],
      "metadata": {
        "id": "fQp70GCTYGQC"
      },
      "execution_count": 60,
      "outputs": []
    },
    {
      "cell_type": "code",
      "source": [
        "%%bash\n",
        "grep \", ?,\" new-adult.csv | wc -l"
      ],
      "metadata": {
        "colab": {
          "base_uri": "https://localhost:8080/"
        },
        "id": "EBIZNZHzW3ZT",
        "outputId": "5fd5148e-a98a-4318-c3e0-3185e5be1f9f"
      },
      "execution_count": 61,
      "outputs": [
        {
          "output_type": "stream",
          "name": "stdout",
          "text": [
            "0\n"
          ]
        }
      ]
    },
    {
      "cell_type": "code",
      "source": [
        "%%bash\n",
        "head -n 120 new-adult.csv | tail -n 20 > adult_sample.csv"
      ],
      "metadata": {
        "id": "4EWEYk84YilF"
      },
      "execution_count": 62,
      "outputs": []
    },
    {
      "cell_type": "code",
      "source": [
        "%%bash\n",
        "cat header.csv adult_sample.csv > adult_sample_with_header.csv"
      ],
      "metadata": {
        "id": "6-xDYrRHZQUf"
      },
      "execution_count": 63,
      "outputs": []
    }
  ]
}